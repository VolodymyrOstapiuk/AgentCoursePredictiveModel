{
  "nbformat": 4,
  "nbformat_minor": 0,
  "metadata": {
    "colab": {
      "provenance": [],
      "authorship_tag": "ABX9TyOxUNYjKjHQWth2nYO/5eIZ",
      "include_colab_link": true
    },
    "kernelspec": {
      "name": "python3",
      "display_name": "Python 3"
    },
    "language_info": {
      "name": "python"
    }
  },
  "cells": [
    {
      "cell_type": "markdown",
      "metadata": {
        "id": "view-in-github",
        "colab_type": "text"
      },
      "source": [
        "<a href=\"https://colab.research.google.com/github/VolodymyrOstapiuk/AgentCoursePredictiveModel/blob/main/Predictive_model.ipynb\" target=\"_parent\"><img src=\"https://colab.research.google.com/assets/colab-badge.svg\" alt=\"Open In Colab\"/></a>"
      ]
    },
    {
      "cell_type": "code",
      "execution_count": 32,
      "metadata": {
        "id": "4X85W9xhw8KR"
      },
      "outputs": [],
      "source": [
        "import numpy as np\n",
        "import math\n",
        "import matplotlib.pyplot as plt\n",
        "from sklearn.metrics import mean_squared_error"
      ]
    },
    {
      "cell_type": "code",
      "source": [
        "n = 1000\n",
        "pointsInBatch = 3\n",
        "xStart = 0\n",
        "xEnd = 10\n",
        "func = lambda x: math.sin(0.1 * x) + math.cos(0.2 * x)"
      ],
      "metadata": {
        "id": "bVO7F8bm0spB"
      },
      "execution_count": 10,
      "outputs": []
    },
    {
      "cell_type": "code",
      "source": [
        "step = (xEnd - xStart)/n\n",
        "print(step)"
      ],
      "metadata": {
        "id": "SzJlJM9S15zJ",
        "outputId": "3603a365-f7bf-4768-86ef-9fb1ddb23330",
        "colab": {
          "base_uri": "https://localhost:8080/"
        }
      },
      "execution_count": 11,
      "outputs": [
        {
          "output_type": "stream",
          "name": "stdout",
          "text": [
            "0.01\n"
          ]
        }
      ]
    },
    {
      "cell_type": "code",
      "source": [
        "x = np.arange(xStart , xEnd, step)\n",
        "vectorizedFunc = np.vectorize(func)\n",
        "y = vectorizedFunc(x)\n",
        "print(\"X:\", x)\n",
        "print(\"Y:\", y)\n",
        "plt.plot(x,y)\n",
        "plt.show()"
      ],
      "metadata": {
        "id": "x9Lg2QHI2PLo",
        "outputId": "286863df-bc92-4b35-e987-e5c54deaacc2",
        "colab": {
          "base_uri": "https://localhost:8080/",
          "height": 1000
        }
      },
      "execution_count": 12,
      "outputs": [
        {
          "output_type": "stream",
          "name": "stdout",
          "text": [
            "X: [0.   0.01 0.02 0.03 0.04 0.05 0.06 0.07 0.08 0.09 0.1  0.11 0.12 0.13\n",
            " 0.14 0.15 0.16 0.17 0.18 0.19 0.2  0.21 0.22 0.23 0.24 0.25 0.26 0.27\n",
            " 0.28 0.29 0.3  0.31 0.32 0.33 0.34 0.35 0.36 0.37 0.38 0.39 0.4  0.41\n",
            " 0.42 0.43 0.44 0.45 0.46 0.47 0.48 0.49 0.5  0.51 0.52 0.53 0.54 0.55\n",
            " 0.56 0.57 0.58 0.59 0.6  0.61 0.62 0.63 0.64 0.65 0.66 0.67 0.68 0.69\n",
            " 0.7  0.71 0.72 0.73 0.74 0.75 0.76 0.77 0.78 0.79 0.8  0.81 0.82 0.83\n",
            " 0.84 0.85 0.86 0.87 0.88 0.89 0.9  0.91 0.92 0.93 0.94 0.95 0.96 0.97\n",
            " 0.98 0.99 1.   1.01 1.02 1.03 1.04 1.05 1.06 1.07 1.08 1.09 1.1  1.11\n",
            " 1.12 1.13 1.14 1.15 1.16 1.17 1.18 1.19 1.2  1.21 1.22 1.23 1.24 1.25\n",
            " 1.26 1.27 1.28 1.29 1.3  1.31 1.32 1.33 1.34 1.35 1.36 1.37 1.38 1.39\n",
            " 1.4  1.41 1.42 1.43 1.44 1.45 1.46 1.47 1.48 1.49 1.5  1.51 1.52 1.53\n",
            " 1.54 1.55 1.56 1.57 1.58 1.59 1.6  1.61 1.62 1.63 1.64 1.65 1.66 1.67\n",
            " 1.68 1.69 1.7  1.71 1.72 1.73 1.74 1.75 1.76 1.77 1.78 1.79 1.8  1.81\n",
            " 1.82 1.83 1.84 1.85 1.86 1.87 1.88 1.89 1.9  1.91 1.92 1.93 1.94 1.95\n",
            " 1.96 1.97 1.98 1.99 2.   2.01 2.02 2.03 2.04 2.05 2.06 2.07 2.08 2.09\n",
            " 2.1  2.11 2.12 2.13 2.14 2.15 2.16 2.17 2.18 2.19 2.2  2.21 2.22 2.23\n",
            " 2.24 2.25 2.26 2.27 2.28 2.29 2.3  2.31 2.32 2.33 2.34 2.35 2.36 2.37\n",
            " 2.38 2.39 2.4  2.41 2.42 2.43 2.44 2.45 2.46 2.47 2.48 2.49 2.5  2.51\n",
            " 2.52 2.53 2.54 2.55 2.56 2.57 2.58 2.59 2.6  2.61 2.62 2.63 2.64 2.65\n",
            " 2.66 2.67 2.68 2.69 2.7  2.71 2.72 2.73 2.74 2.75 2.76 2.77 2.78 2.79\n",
            " 2.8  2.81 2.82 2.83 2.84 2.85 2.86 2.87 2.88 2.89 2.9  2.91 2.92 2.93\n",
            " 2.94 2.95 2.96 2.97 2.98 2.99 3.   3.01 3.02 3.03 3.04 3.05 3.06 3.07\n",
            " 3.08 3.09 3.1  3.11 3.12 3.13 3.14 3.15 3.16 3.17 3.18 3.19 3.2  3.21\n",
            " 3.22 3.23 3.24 3.25 3.26 3.27 3.28 3.29 3.3  3.31 3.32 3.33 3.34 3.35\n",
            " 3.36 3.37 3.38 3.39 3.4  3.41 3.42 3.43 3.44 3.45 3.46 3.47 3.48 3.49\n",
            " 3.5  3.51 3.52 3.53 3.54 3.55 3.56 3.57 3.58 3.59 3.6  3.61 3.62 3.63\n",
            " 3.64 3.65 3.66 3.67 3.68 3.69 3.7  3.71 3.72 3.73 3.74 3.75 3.76 3.77\n",
            " 3.78 3.79 3.8  3.81 3.82 3.83 3.84 3.85 3.86 3.87 3.88 3.89 3.9  3.91\n",
            " 3.92 3.93 3.94 3.95 3.96 3.97 3.98 3.99 4.   4.01 4.02 4.03 4.04 4.05\n",
            " 4.06 4.07 4.08 4.09 4.1  4.11 4.12 4.13 4.14 4.15 4.16 4.17 4.18 4.19\n",
            " 4.2  4.21 4.22 4.23 4.24 4.25 4.26 4.27 4.28 4.29 4.3  4.31 4.32 4.33\n",
            " 4.34 4.35 4.36 4.37 4.38 4.39 4.4  4.41 4.42 4.43 4.44 4.45 4.46 4.47\n",
            " 4.48 4.49 4.5  4.51 4.52 4.53 4.54 4.55 4.56 4.57 4.58 4.59 4.6  4.61\n",
            " 4.62 4.63 4.64 4.65 4.66 4.67 4.68 4.69 4.7  4.71 4.72 4.73 4.74 4.75\n",
            " 4.76 4.77 4.78 4.79 4.8  4.81 4.82 4.83 4.84 4.85 4.86 4.87 4.88 4.89\n",
            " 4.9  4.91 4.92 4.93 4.94 4.95 4.96 4.97 4.98 4.99 5.   5.01 5.02 5.03\n",
            " 5.04 5.05 5.06 5.07 5.08 5.09 5.1  5.11 5.12 5.13 5.14 5.15 5.16 5.17\n",
            " 5.18 5.19 5.2  5.21 5.22 5.23 5.24 5.25 5.26 5.27 5.28 5.29 5.3  5.31\n",
            " 5.32 5.33 5.34 5.35 5.36 5.37 5.38 5.39 5.4  5.41 5.42 5.43 5.44 5.45\n",
            " 5.46 5.47 5.48 5.49 5.5  5.51 5.52 5.53 5.54 5.55 5.56 5.57 5.58 5.59\n",
            " 5.6  5.61 5.62 5.63 5.64 5.65 5.66 5.67 5.68 5.69 5.7  5.71 5.72 5.73\n",
            " 5.74 5.75 5.76 5.77 5.78 5.79 5.8  5.81 5.82 5.83 5.84 5.85 5.86 5.87\n",
            " 5.88 5.89 5.9  5.91 5.92 5.93 5.94 5.95 5.96 5.97 5.98 5.99 6.   6.01\n",
            " 6.02 6.03 6.04 6.05 6.06 6.07 6.08 6.09 6.1  6.11 6.12 6.13 6.14 6.15\n",
            " 6.16 6.17 6.18 6.19 6.2  6.21 6.22 6.23 6.24 6.25 6.26 6.27 6.28 6.29\n",
            " 6.3  6.31 6.32 6.33 6.34 6.35 6.36 6.37 6.38 6.39 6.4  6.41 6.42 6.43\n",
            " 6.44 6.45 6.46 6.47 6.48 6.49 6.5  6.51 6.52 6.53 6.54 6.55 6.56 6.57\n",
            " 6.58 6.59 6.6  6.61 6.62 6.63 6.64 6.65 6.66 6.67 6.68 6.69 6.7  6.71\n",
            " 6.72 6.73 6.74 6.75 6.76 6.77 6.78 6.79 6.8  6.81 6.82 6.83 6.84 6.85\n",
            " 6.86 6.87 6.88 6.89 6.9  6.91 6.92 6.93 6.94 6.95 6.96 6.97 6.98 6.99\n",
            " 7.   7.01 7.02 7.03 7.04 7.05 7.06 7.07 7.08 7.09 7.1  7.11 7.12 7.13\n",
            " 7.14 7.15 7.16 7.17 7.18 7.19 7.2  7.21 7.22 7.23 7.24 7.25 7.26 7.27\n",
            " 7.28 7.29 7.3  7.31 7.32 7.33 7.34 7.35 7.36 7.37 7.38 7.39 7.4  7.41\n",
            " 7.42 7.43 7.44 7.45 7.46 7.47 7.48 7.49 7.5  7.51 7.52 7.53 7.54 7.55\n",
            " 7.56 7.57 7.58 7.59 7.6  7.61 7.62 7.63 7.64 7.65 7.66 7.67 7.68 7.69\n",
            " 7.7  7.71 7.72 7.73 7.74 7.75 7.76 7.77 7.78 7.79 7.8  7.81 7.82 7.83\n",
            " 7.84 7.85 7.86 7.87 7.88 7.89 7.9  7.91 7.92 7.93 7.94 7.95 7.96 7.97\n",
            " 7.98 7.99 8.   8.01 8.02 8.03 8.04 8.05 8.06 8.07 8.08 8.09 8.1  8.11\n",
            " 8.12 8.13 8.14 8.15 8.16 8.17 8.18 8.19 8.2  8.21 8.22 8.23 8.24 8.25\n",
            " 8.26 8.27 8.28 8.29 8.3  8.31 8.32 8.33 8.34 8.35 8.36 8.37 8.38 8.39\n",
            " 8.4  8.41 8.42 8.43 8.44 8.45 8.46 8.47 8.48 8.49 8.5  8.51 8.52 8.53\n",
            " 8.54 8.55 8.56 8.57 8.58 8.59 8.6  8.61 8.62 8.63 8.64 8.65 8.66 8.67\n",
            " 8.68 8.69 8.7  8.71 8.72 8.73 8.74 8.75 8.76 8.77 8.78 8.79 8.8  8.81\n",
            " 8.82 8.83 8.84 8.85 8.86 8.87 8.88 8.89 8.9  8.91 8.92 8.93 8.94 8.95\n",
            " 8.96 8.97 8.98 8.99 9.   9.01 9.02 9.03 9.04 9.05 9.06 9.07 9.08 9.09\n",
            " 9.1  9.11 9.12 9.13 9.14 9.15 9.16 9.17 9.18 9.19 9.2  9.21 9.22 9.23\n",
            " 9.24 9.25 9.26 9.27 9.28 9.29 9.3  9.31 9.32 9.33 9.34 9.35 9.36 9.37\n",
            " 9.38 9.39 9.4  9.41 9.42 9.43 9.44 9.45 9.46 9.47 9.48 9.49 9.5  9.51\n",
            " 9.52 9.53 9.54 9.55 9.56 9.57 9.58 9.59 9.6  9.61 9.62 9.63 9.64 9.65\n",
            " 9.66 9.67 9.68 9.69 9.7  9.71 9.72 9.73 9.74 9.75 9.76 9.77 9.78 9.79\n",
            " 9.8  9.81 9.82 9.83 9.84 9.85 9.86 9.87 9.88 9.89 9.9  9.91 9.92 9.93\n",
            " 9.94 9.95 9.96 9.97 9.98 9.99]\n",
            "Y: [1.         1.000998   1.001992   1.002982   1.00396799 1.00494998\n",
            " 1.00592796 1.00690194 1.00787192 1.00883788 1.00979984 1.01075779\n",
            " 1.01171173 1.01266165 1.01360757 1.01454947 1.01548736 1.01642124\n",
            " 1.0173511  1.01827694 1.01919877 1.02011659 1.02103038 1.02194016\n",
            " 1.02284592 1.02374766 1.02464538 1.02553907 1.02642875 1.02731441\n",
            " 1.02819604 1.02907365 1.02994724 1.0308168  1.03168234 1.03254385\n",
            " 1.03340134 1.03425481 1.03510425 1.03594966 1.03679104 1.0376284\n",
            " 1.03846173 1.03929103 1.0401163  1.04093755 1.04175476 1.04256795\n",
            " 1.04337711 1.04418224 1.04498333 1.0457804  1.04657344 1.04736245\n",
            " 1.04814743 1.04892837 1.04970529 1.05047817 1.05124703 1.05201185\n",
            " 1.05277264 1.0535294  1.05428213 1.05503083 1.0557755  1.05651613\n",
            " 1.05725274 1.05798531 1.05871385 1.05943836 1.06015884 1.06087529\n",
            " 1.06158771 1.0622961  1.06300046 1.06370079 1.06439708 1.06508935\n",
            " 1.06577759 1.0664618  1.06714198 1.06781813 1.06849025 1.06915834\n",
            " 1.06982241 1.07048245 1.07113846 1.07179045 1.0724384  1.07308234\n",
            " 1.07372224 1.07435812 1.07498998 1.07561781 1.07624162 1.0768614\n",
            " 1.07747717 1.0780889  1.07869662 1.07930032 1.07989999 1.08049565\n",
            " 1.08108729 1.0816749  1.0822585  1.08283808 1.08341365 1.0839852\n",
            " 1.08455273 1.08511625 1.08567575 1.08623124 1.08678272 1.08733018\n",
            " 1.08787364 1.08841308 1.08894852 1.08947995 1.09000736 1.09053078\n",
            " 1.09105018 1.09156558 1.09207698 1.09258437 1.09308777 1.09358716\n",
            " 1.09408254 1.09457394 1.09506133 1.09554472 1.09602412 1.09649952\n",
            " 1.09697093 1.09743835 1.09790177 1.09836121 1.09881665 1.09926811\n",
            " 1.09971557 1.10015906 1.10059855 1.10103407 1.1014656  1.10189315\n",
            " 1.10231671 1.10273631 1.10315192 1.10356355 1.10397122 1.10437491\n",
            " 1.10477462 1.10517037 1.10556214 1.10594995 1.10633379 1.10671367\n",
            " 1.10708958 1.10746153 1.10782952 1.10819355 1.10855362 1.10890974\n",
            " 1.1092619  1.10961011 1.10995437 1.11029467 1.11063103 1.11096344\n",
            " 1.11129191 1.11161643 1.11193701 1.11225366 1.11256636 1.11287512\n",
            " 1.11317995 1.11348085 1.11377782 1.11407085 1.11435996 1.11464514\n",
            " 1.1149264  1.11520373 1.11547714 1.11574664 1.11601222 1.11627388\n",
            " 1.11653163 1.11678547 1.11703539 1.11728142 1.11752353 1.11776174\n",
            " 1.11799605 1.11822646 1.11845298 1.11867559 1.11889432 1.11910915\n",
            " 1.1193201  1.11952715 1.11973032 1.11992961 1.12012502 1.12031655\n",
            " 1.1205042  1.12068798 1.12086789 1.12104393 1.1212161  1.1213844\n",
            " 1.12154884 1.12170942 1.12186614 1.12201901 1.12216802 1.12231318\n",
            " 1.12245449 1.12259195 1.12272557 1.12285535 1.12298129 1.12310339\n",
            " 1.12322165 1.12333609 1.12344669 1.12355346 1.12365642 1.12375554\n",
            " 1.12385085 1.12394234 1.12403002 1.12411389 1.12419394 1.12427019\n",
            " 1.12434263 1.12441127 1.12447612 1.12453716 1.12459441 1.12464788\n",
            " 1.12469755 1.12474344 1.12478554 1.12482386 1.12485841 1.12488918\n",
            " 1.12491618 1.12493941 1.12495888 1.12497458 1.12498652 1.1249947\n",
            " 1.12499913 1.12499981 1.12499674 1.12498992 1.12497935 1.12496505\n",
            " 1.12494701 1.12492524 1.12489973 1.1248705  1.12483754 1.12480086\n",
            " 1.12476046 1.12471634 1.12466851 1.12461697 1.12456172 1.12450277\n",
            " 1.12444012 1.12437377 1.12430372 1.12422999 1.12415257 1.12407146\n",
            " 1.12398667 1.1238982  1.12380606 1.12371024 1.12361076 1.12350761\n",
            " 1.1234008  1.12329033 1.1231762  1.12305843 1.122937   1.12281193\n",
            " 1.12268321 1.12255086 1.12241488 1.12227526 1.12213201 1.12198514\n",
            " 1.12183464 1.12168053 1.1215228  1.12136147 1.12119652 1.12102797\n",
            " 1.12085582 1.12068008 1.12050074 1.12031781 1.12013129 1.11994119\n",
            " 1.11974752 1.11955026 1.11934944 1.11914505 1.11893709 1.11872558\n",
            " 1.1185105  1.11829188 1.1180697  1.11784398 1.11761472 1.11738191\n",
            " 1.11714558 1.11690571 1.11666232 1.1164154  1.11616497 1.11591102\n",
            " 1.11565355 1.11539258 1.11512811 1.11486014 1.11458867 1.11431371\n",
            " 1.11403526 1.11375333 1.11346791 1.11317903 1.11288666 1.11259084\n",
            " 1.11229154 1.11198879 1.11168258 1.11137292 1.11105981 1.11074326\n",
            " 1.11042327 1.11009984 1.10977298 1.10944269 1.10910898 1.10877185\n",
            " 1.10843131 1.10808736 1.10773999 1.10738923 1.10703507 1.10667752\n",
            " 1.10631657 1.10595224 1.10558453 1.10521344 1.10483898 1.10446115\n",
            " 1.10407996 1.10369541 1.1033075  1.10291625 1.10252164 1.1021237\n",
            " 1.10172241 1.1013178  1.10090985 1.10049858 1.10008399 1.09966609\n",
            " 1.09924487 1.09882035 1.09839252 1.0979614  1.09752698 1.09708928\n",
            " 1.09664829 1.09620402 1.09575648 1.09530567 1.09485159 1.09439425\n",
            " 1.09393365 1.09346981 1.09300271 1.09253237 1.0920588  1.09158199\n",
            " 1.09110195 1.09061869 1.09013221 1.08964252 1.08914961 1.0886535\n",
            " 1.0881542  1.08765169 1.087146   1.08663711 1.08612505 1.08560981\n",
            " 1.0850914  1.08456983 1.08404509 1.08351719 1.08298615 1.08245195\n",
            " 1.08191462 1.08137414 1.08083054 1.0802838  1.07973395 1.07918097\n",
            " 1.07862488 1.07806569 1.07750339 1.076938   1.07636951 1.07579794\n",
            " 1.07522328 1.07464554 1.07406474 1.07348086 1.07289392 1.07230393\n",
            " 1.07171088 1.07111479 1.07051565 1.06991348 1.06930827 1.06870004\n",
            " 1.06808879 1.06747452 1.06685724 1.06623695 1.06561366 1.06498738\n",
            " 1.06435811 1.06372585 1.06309061 1.0624524  1.06181122 1.06116707\n",
            " 1.06051996 1.05986991 1.0592169  1.05856095 1.05790207 1.05724025\n",
            " 1.0565755  1.05590784 1.05523725 1.05456376 1.05388736 1.05320806\n",
            " 1.05252587 1.05184079 1.05115282 1.05046198 1.04976826 1.04907168\n",
            " 1.04837223 1.04766993 1.04696478 1.04625678 1.04554595 1.04483227\n",
            " 1.04411577 1.04339645 1.04267431 1.04194936 1.0412216  1.04049104\n",
            " 1.03975768 1.03902154 1.03828261 1.0375409  1.03679642 1.03604917\n",
            " 1.03529916 1.0345464  1.03379088 1.03303262 1.03227162 1.03150789\n",
            " 1.03074143 1.02997225 1.02920035 1.02842575 1.02764843 1.02686842\n",
            " 1.02608572 1.02530033 1.02451226 1.02372151 1.02292809 1.02213201\n",
            " 1.02133327 1.02053188 1.01972784 1.01892117 1.01811185 1.01729991\n",
            " 1.01648534 1.01566816 1.01484837 1.01402597 1.01320097 1.01237338\n",
            " 1.0115432  1.01071044 1.0098751  1.00903719 1.00819672 1.00735369\n",
            " 1.00650811 1.00565999 1.00480932 1.00395612 1.0031004  1.00224215\n",
            " 1.00138138 1.00051811 0.99965233 0.99878405 0.99791329 0.99704003\n",
            " 0.9961643  0.9952861  0.99440542 0.99352229 0.9926367  0.99174866\n",
            " 0.99085818 0.98996527 0.98906992 0.98817215 0.98727196 0.98636936\n",
            " 0.98546436 0.98455695 0.98364715 0.98273497 0.9818204  0.98090346\n",
            " 0.97998415 0.97906248 0.97813845 0.97721207 0.97628335 0.97535229\n",
            " 0.9744189  0.97348319 0.97254516 0.97160482 0.97066217 0.96971722\n",
            " 0.96876998 0.96782045 0.96686864 0.96591456 0.96495821 0.9639996\n",
            " 0.96303874 0.96207562 0.96111027 0.96014268 0.95917286 0.95820081\n",
            " 0.95722655 0.95625008 0.95527141 0.95429054 0.95330748 0.95232223\n",
            " 0.95133481 0.95034521 0.94935345 0.94835954 0.94736347 0.94636525\n",
            " 0.9453649  0.94436241 0.9433578  0.94235107 0.94134222 0.94033127\n",
            " 0.93931822 0.93830308 0.93728585 0.93626654 0.93524515 0.9342217\n",
            " 0.93319619 0.93216863 0.93113901 0.93010736 0.92907368 0.92803796\n",
            " 0.92700023 0.92596048 0.92491872 0.92387497 0.92282922 0.92178148\n",
            " 0.92073176 0.91968006 0.9186264  0.91757078 0.91651321 0.91545368\n",
            " 0.91439222 0.91332882 0.9122635  0.91119625 0.91012709 0.90905602\n",
            " 0.90798305 0.90690819 0.90583144 0.90475282 0.90367231 0.90258995\n",
            " 0.90150572 0.90041964 0.89933171 0.89824194 0.89715034 0.89605691\n",
            " 0.89496167 0.89386461 0.89276574 0.89166508 0.89056263 0.88945839\n",
            " 0.88835237 0.88724458 0.88613503 0.88502371 0.88391065 0.88279584\n",
            " 0.8816793  0.88056103 0.87944103 0.87831931 0.87719589 0.87607076\n",
            " 0.87494394 0.87381543 0.87268523 0.87155337 0.87041983 0.86928463\n",
            " 0.86814778 0.86700928 0.86586913 0.86472736 0.86358396 0.86243894\n",
            " 0.8612923  0.86014406 0.85899423 0.85784279 0.85668978 0.85553519\n",
            " 0.85437902 0.85322129 0.85206201 0.85090117 0.84973879 0.84857488\n",
            " 0.84740944 0.84624247 0.84507399 0.843904   0.84273251 0.84155953\n",
            " 0.84038506 0.83920911 0.83803169 0.8368528  0.83567245 0.83449066\n",
            " 0.83330741 0.83212273 0.83093662 0.82974909 0.82856014 0.82736978\n",
            " 0.82617801 0.82498486 0.82379031 0.82259438 0.82139708 0.82019842\n",
            " 0.81899839 0.81779701 0.81659429 0.81539022 0.81418483 0.81297811\n",
            " 0.81177008 0.81056073 0.80935008 0.80813814 0.80692491 0.8057104\n",
            " 0.80449461 0.80327756 0.80205924 0.80083967 0.79961886 0.79839681\n",
            " 0.79717353 0.79594902 0.7947233  0.79349637 0.79226823 0.7910389\n",
            " 0.78980838 0.78857668 0.78734381 0.78610977 0.78487456 0.78363821\n",
            " 0.78240071 0.78116208 0.77992231 0.77868142 0.77743941 0.7761963\n",
            " 0.77495208 0.77370677 0.77246037 0.77121289 0.76996434 0.76871472\n",
            " 0.76746404 0.76621231 0.76495954 0.76370573 0.76245089 0.76119502\n",
            " 0.75993814 0.75868026 0.75742137 0.75616149 0.75490063 0.75363878\n",
            " 0.75237596 0.75111218 0.74984744 0.74858175 0.74731512 0.74604755\n",
            " 0.74477905 0.74350964 0.7422393  0.74096807 0.73969593 0.7384229\n",
            " 0.73714899 0.7358742  0.73459853 0.73332201 0.73204463 0.7307664\n",
            " 0.72948733 0.72820743 0.7269267  0.72564515 0.72436279 0.72307962\n",
            " 0.72179566 0.7205109  0.71922537 0.71793905 0.71665197 0.71536413\n",
            " 0.71407554 0.71278619 0.71149611 0.7102053  0.70891376 0.70762151\n",
            " 0.70632854 0.70503488 0.70374051 0.70244546 0.70114973 0.69985332\n",
            " 0.69855625 0.69725852 0.69596014 0.69466111 0.69336145 0.69206115\n",
            " 0.69076024 0.68945871 0.68815657 0.68685383 0.6855505  0.68424658\n",
            " 0.68294208 0.68163701 0.68033138 0.67902519 0.67771845 0.67641117\n",
            " 0.67510335 0.67379501 0.67248614 0.67117677 0.66986689 0.6685565\n",
            " 0.66724563 0.66593428 0.66462245 0.66331014 0.66199738 0.66068416\n",
            " 0.6593705  0.65805639 0.65674186 0.65542689 0.65411151 0.65279572\n",
            " 0.65147953 0.65016293 0.64884595 0.64752859 0.64621086 0.64489275\n",
            " 0.64357429 0.64225548 0.64093631 0.63961682 0.63829699 0.63697684\n",
            " 0.63565637 0.63433559 0.63301451 0.63169314 0.63037148 0.62904954\n",
            " 0.62772733 0.62640486 0.62508212 0.62375914 0.62243591 0.62111245\n",
            " 0.61978876 0.61846484 0.61714072 0.61581638 0.61449185 0.61316712\n",
            " 0.61184221 0.61051712 0.60919186 0.60786644 0.60654086 0.60521513\n",
            " 0.60388927 0.60256326 0.60123713 0.59991088 0.59858452 0.59725805\n",
            " 0.59593149 0.59460483 0.59327809 0.59195128 0.59062439 0.58929745\n",
            " 0.58797045 0.5866434  0.58531631 0.58398919 0.58266204 0.58133487\n",
            " 0.5800077  0.57868052 0.57735334 0.57602617 0.57469902 0.5733719\n",
            " 0.57204481 0.57071775 0.56939075 0.56806379 0.5667369  0.56541008\n",
            " 0.56408333 0.56275666 0.56143008 0.5601036  0.55877723 0.55745096\n",
            " 0.55612481 0.55479879 0.5534729  0.55214716 0.55082155 0.54949611\n",
            " 0.54817082 0.5468457  0.54552076 0.544196   0.54287143 0.54154706\n",
            " 0.54022289 0.53889893 0.53757519 0.53625168 0.5349284  0.53360536\n",
            " 0.53228256 0.53096002 0.52963774 0.52831573 0.526994   0.52567255\n",
            " 0.52435138 0.52303052 0.52170995 0.5203897  0.51906977 0.51775016\n",
            " 0.51643088 0.51511194 0.51379335 0.51247511 0.51115724 0.50983973\n",
            " 0.50852259 0.50720583 0.50588947 0.5045735  0.50325793 0.50194277\n",
            " 0.50062803 0.49931371 0.49799982 0.49668637 0.49537337 0.49406082\n",
            " 0.49274872 0.49143709 0.49012594 0.48881526 0.48750507 0.48619538\n",
            " 0.48488618 0.48357749 0.48226932 0.48096167 0.47965455 0.47834796\n",
            " 0.47704192 0.47573642 0.47443148 0.47312711 0.4718233  0.47052007\n",
            " 0.46921743 0.46791538 0.46661392 0.46531307 0.46401283 0.46271321\n",
            " 0.46141422 0.46011586 0.45881813 0.45752106 0.45622463 0.45492887\n",
            " 0.45363377 0.45233935 0.45104561 0.44975255 0.44846019 0.44716853\n",
            " 0.44587758 0.44458734 0.44329782 0.44200903 0.44072098 0.43943367\n",
            " 0.4381471  0.4368613  0.43557625 0.43429198 0.43300848 0.43172576\n",
            " 0.43044383 0.4291627  0.42788237 0.42660285]\n"
          ]
        },
        {
          "output_type": "display_data",
          "data": {
            "text/plain": [
              "<Figure size 432x288 with 1 Axes>"
            ],
            "image/png": "[encoded data removed]"
          },
          "metadata": {
            "needs_background": "light"
          }
        }
      ]
    },
    {
      "cell_type": "code",
      "source": [
        "partsCount = x.size - pointsInBatch + 1\n",
        "print(\"Parts count:\", partsCount)"
      ],
      "metadata": {
        "id": "q3eIF3vG3uKK",
        "outputId": "609e30c7-7ad6-4f69-b4d4-2a08b3fbde66",
        "colab": {
          "base_uri": "https://localhost:8080/"
        }
      },
      "execution_count": 13,
      "outputs": [
        {
          "output_type": "stream",
          "name": "stdout",
          "text": [
            "Parts count: 998\n"
          ]
        }
      ]
    },
    {
      "cell_type": "code",
      "source": [
        "A_full = np.zeros((partsCount,5))\n",
        "A_result = np.zeros((4,5))\n",
        "print(\"Full A shape:\", A_full.shape)\n",
        "print(\"Result A shape:\", A_result.shape)\n"
      ],
      "metadata": {
        "id": "FGK0twp14EWv",
        "colab": {
          "base_uri": "https://localhost:8080/"
        },
        "outputId": "43f7dfcb-9b7c-4da4-cf6e-e0e6edba45d8"
      },
      "execution_count": 8,
      "outputs": [
        {
          "output_type": "stream",
          "name": "stdout",
          "text": [
            "Full A shape: (998, 5)\n",
            "Result A shape: (4, 5)\n"
          ]
        }
      ]
    },
    {
      "cell_type": "code",
      "source": [
        "if partsCount > 0:\n",
        "  for elNumber in range(partsCount):\n",
        "    A_full[elNumber, 0] = 1\n",
        "    A_full[elNumber, 1] = y[elNumber + 1]\n",
        "    A_full[elNumber, 2] = y[elNumber]\n",
        "    A_full[elNumber, 3] = y[elNumber] * y[elNumber + 1]\n",
        "    A_full[elNumber, 4] = y[elNumber+2]\n",
        "  print(\"Full A matrix:\", A_full)\n",
        "  for paramNumber in range(4):\n",
        "      paramColumn = A_full[:,paramNumber].reshape(partsCount,1)\n",
        "      A_multiplied = A_full * paramColumn\n",
        "      result_row = np.sum(A_multiplied, 0)\n",
        "      A_result[paramNumber, :] = result_row\n",
        "  print(\"Result A matrix:\", A_result)\n",
        "  A = A_result[:, :4]\n",
        "  B = A_result[:, 4]\n",
        "  print(\"A:\",A)\n",
        "  print(\"B:\",B)\n",
        "  param_result = np.linalg.solve(A,B)\n",
        "  print(\"Model result:\", param_result)"
      ],
      "metadata": {
        "colab": {
          "base_uri": "https://localhost:8080/"
        },
        "id": "VHOYKeeO4_cH",
        "outputId": "0b68a780-3546-45b2-fef3-143feb4bdf02"
      },
      "execution_count": 29,
      "outputs": [
        {
          "output_type": "stream",
          "name": "stdout",
          "text": [
            "Full A matrix: [[1.         1.000998   1.         1.000998   1.001992  ]\n",
            " [1.         1.001992   1.000998   1.00299199 1.002982  ]\n",
            " [1.         1.002982   1.001992   1.00497993 1.00396799]\n",
            " ...\n",
            " [1.         0.43044383 0.43172576 0.18583369 0.4291627 ]\n",
            " [1.         0.4291627  0.43044383 0.18473044 0.42788237]\n",
            " [1.         0.42788237 0.4291627  0.18363115 0.42660285]]\n",
            "Result A matrix: [[998.         913.20695276 913.77907039 881.343802   912.63255761]\n",
            " [913.20695276 880.93577186 881.343802   881.34756294 880.52533984]\n",
            " [913.77907039 881.343802   881.75268854 881.65478328 880.93251327]\n",
            " [881.343802   881.34756294 881.65478328 903.34411045 881.03780154]]\n",
            "A: [[998.         913.20695276 913.77907039 881.343802  ]\n",
            " [913.20695276 880.93577186 881.343802   881.34756294]\n",
            " [913.77907039 881.343802   881.75268854 881.65478328]\n",
            " [881.343802   881.34756294 881.65478328 903.34411045]]\n",
            "B: [912.63255761 880.52533984 880.93251327 881.03780154]\n",
            "Model result: [ 2.42916744e-06  1.99920056e+00 -9.99207124e-01  9.48113262e-07]\n"
          ]
        }
      ]
    },
    {
      "cell_type": "code",
      "source": [
        "  A_full_without_result = A_full[:, :4]\n",
        "  y_predicted = np.transpose(A_full_without_result @ param_result)\n",
        "  x_parts = x[pointsInBatch-1:x.size];\n",
        "  plt.plot(x, y, 'r')\n",
        "  plt.plot(x_parts, y_predicted, 'g')\n",
        "  plt.show()\n"
      ],
      "metadata": {
        "colab": {
          "base_uri": "https://localhost:8080/",
          "height": 265
        },
        "id": "QJ8cAaNX7RWm",
        "outputId": "07aad18d-a7a7-4e35-c30c-3311112abc33"
      },
      "execution_count": 31,
      "outputs": [
        {
          "output_type": "display_data",
          "data": {
            "text/plain": [
              "<Figure size 432x288 with 1 Axes>"
            ],
            "image/png": "[encoded data removed]"
          },
          "metadata": {
            "needs_background": "light"
          }
        }
      ]
    },
    {
      "cell_type": "code",
      "source": [
        "mean_squared_error = mean_squared_error(y_predicted,y[pointsInBatch-1 : y.size])\n",
        "print(\"Mean Squared error:\", mean_squared_error);"
      ],
      "metadata": {
        "colab": {
          "base_uri": "https://localhost:8080/"
        },
        "id": "mEbrW-dKE_1k",
        "outputId": "1a206702-10e7-41f6-9452-8d41ca2b38bd"
      },
      "execution_count": 33,
      "outputs": [
        {
          "output_type": "stream",
          "name": "stdout",
          "text": [
            "Mean Squared error: 2.095697562610768e-17\n"
          ]
        }
      ]
    }
  ]
}